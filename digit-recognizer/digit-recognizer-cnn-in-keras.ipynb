{
 "cells": [
  {
   "cell_type": "code",
   "execution_count": 1,
   "metadata": {
    "_cell_guid": "b1076dfc-b9ad-4769-8c92-a6c4dae69d19",
    "_uuid": "8f2839f25d086af736a60e9eeb907d3b93b6e0e5",
    "execution": {
     "iopub.execute_input": "2021-01-06T12:43:57.093075Z",
     "iopub.status.busy": "2021-01-06T12:43:57.092178Z",
     "iopub.status.idle": "2021-01-06T12:43:57.097438Z",
     "shell.execute_reply": "2021-01-06T12:43:57.097996Z"
    },
    "papermill": {
     "duration": 0.027882,
     "end_time": "2021-01-06T12:43:57.098162",
     "exception": false,
     "start_time": "2021-01-06T12:43:57.070280",
     "status": "completed"
    },
    "tags": []
   },
   "outputs": [
    {
     "name": "stdout",
     "output_type": "stream",
     "text": [
      "/kaggle/input/digit-recognizer/sample_submission.csv\n",
      "/kaggle/input/digit-recognizer/train.csv\n",
      "/kaggle/input/digit-recognizer/test.csv\n"
     ]
    }
   ],
   "source": [
    "# This Python 3 environment comes with many helpful analytics libraries installed\n",
    "# It is defined by the kaggle/python Docker image: https://github.com/kaggle/docker-python\n",
    "# For example, here's several helpful packages to load\n",
    "\n",
    "import numpy as np # linear algebra\n",
    "import pandas as pd # data processing, CSV file I/O (e.g. pd.read_csv)\n",
    "\n",
    "# Input data files are available in the read-only \"../input/\" directory\n",
    "# For example, running this (by clicking run or pressing Shift+Enter) will list all files under the input directory\n",
    "\n",
    "import os\n",
    "for dirname, _, filenames in os.walk('/kaggle/input'):\n",
    "    for filename in filenames:\n",
    "        print(os.path.join(dirname, filename))\n",
    "\n",
    "# You can write up to 20GB to the current directory (/kaggle/working/) that gets preserved as output when you create a version using \"Save & Run All\" \n",
    "# You can also write temporary files to /kaggle/temp/, but they won't be saved outside of the current session"
   ]
  },
  {
   "cell_type": "code",
   "execution_count": 2,
   "metadata": {
    "_cell_guid": "79c7e3d0-c299-4dcb-8224-4455121ee9b0",
    "_uuid": "d629ff2d2480ee46fbb7e2d37f6b5fab8052498a",
    "execution": {
     "iopub.execute_input": "2021-01-06T12:43:57.135833Z",
     "iopub.status.busy": "2021-01-06T12:43:57.135290Z",
     "iopub.status.idle": "2021-01-06T12:44:02.303448Z",
     "shell.execute_reply": "2021-01-06T12:44:02.302466Z"
    },
    "papermill": {
     "duration": 5.18901,
     "end_time": "2021-01-06T12:44:02.303567",
     "exception": false,
     "start_time": "2021-01-06T12:43:57.114557",
     "status": "completed"
    },
    "tags": []
   },
   "outputs": [],
   "source": [
    "import matplotlib.pyplot as plt\n",
    "\n",
    "from sklearn.model_selection import train_test_split\n",
    "\n",
    "from keras.preprocessing.image import ImageDataGenerator\n",
    "from keras.utils import to_categorical\n",
    "\n",
    "from keras.models import Sequential, load_model\n",
    "from keras.layers import Dense, Dropout, Flatten\n",
    "from keras.layers import Conv2D, MaxPooling2D, BatchNormalization\n",
    "from keras.optimizers import Adam\n",
    "\n",
    "from keras.callbacks import LearningRateScheduler\n",
    "from keras.callbacks import EarlyStopping\n",
    "\n",
    "# Seed for reproducibility\n",
    "seed = 42\n",
    "np.random.seed(seed)"
   ]
  },
  {
   "cell_type": "code",
   "execution_count": 3,
   "metadata": {
    "execution": {
     "iopub.execute_input": "2021-01-06T12:44:02.341884Z",
     "iopub.status.busy": "2021-01-06T12:44:02.341350Z",
     "iopub.status.idle": "2021-01-06T12:44:08.083345Z",
     "shell.execute_reply": "2021-01-06T12:44:08.082753Z"
    },
    "papermill": {
     "duration": 5.763933,
     "end_time": "2021-01-06T12:44:08.083460",
     "exception": false,
     "start_time": "2021-01-06T12:44:02.319527",
     "status": "completed"
    },
    "tags": []
   },
   "outputs": [],
   "source": [
    "train = pd.read_csv('../input/digit-recognizer/train.csv')\n",
    "test = pd.read_csv('../input/digit-recognizer/test.csv')"
   ]
  },
  {
   "cell_type": "code",
   "execution_count": 4,
   "metadata": {
    "execution": {
     "iopub.execute_input": "2021-01-06T12:44:08.126379Z",
     "iopub.status.busy": "2021-01-06T12:44:08.125357Z",
     "iopub.status.idle": "2021-01-06T12:44:10.052139Z",
     "shell.execute_reply": "2021-01-06T12:44:10.052602Z"
    },
    "papermill": {
     "duration": 1.953565,
     "end_time": "2021-01-06T12:44:10.052726",
     "exception": false,
     "start_time": "2021-01-06T12:44:08.099161",
     "status": "completed"
    },
    "tags": []
   },
   "outputs": [
    {
     "data": {
      "text/html": [
       "<div>\n",
       "<style scoped>\n",
       "    .dataframe tbody tr th:only-of-type {\n",
       "        vertical-align: middle;\n",
       "    }\n",
       "\n",
       "    .dataframe tbody tr th {\n",
       "        vertical-align: top;\n",
       "    }\n",
       "\n",
       "    .dataframe thead th {\n",
       "        text-align: right;\n",
       "    }\n",
       "</style>\n",
       "<table border=\"1\" class=\"dataframe\">\n",
       "  <thead>\n",
       "    <tr style=\"text-align: right;\">\n",
       "      <th></th>\n",
       "      <th>label</th>\n",
       "      <th>pixel0</th>\n",
       "      <th>pixel1</th>\n",
       "      <th>pixel2</th>\n",
       "      <th>pixel3</th>\n",
       "      <th>pixel4</th>\n",
       "      <th>pixel5</th>\n",
       "      <th>pixel6</th>\n",
       "      <th>pixel7</th>\n",
       "      <th>pixel8</th>\n",
       "      <th>...</th>\n",
       "      <th>pixel774</th>\n",
       "      <th>pixel775</th>\n",
       "      <th>pixel776</th>\n",
       "      <th>pixel777</th>\n",
       "      <th>pixel778</th>\n",
       "      <th>pixel779</th>\n",
       "      <th>pixel780</th>\n",
       "      <th>pixel781</th>\n",
       "      <th>pixel782</th>\n",
       "      <th>pixel783</th>\n",
       "    </tr>\n",
       "  </thead>\n",
       "  <tbody>\n",
       "    <tr>\n",
       "      <th>count</th>\n",
       "      <td>42000.000000</td>\n",
       "      <td>42000.0</td>\n",
       "      <td>42000.0</td>\n",
       "      <td>42000.0</td>\n",
       "      <td>42000.0</td>\n",
       "      <td>42000.0</td>\n",
       "      <td>42000.0</td>\n",
       "      <td>42000.0</td>\n",
       "      <td>42000.0</td>\n",
       "      <td>42000.0</td>\n",
       "      <td>...</td>\n",
       "      <td>42000.000000</td>\n",
       "      <td>42000.000000</td>\n",
       "      <td>42000.000000</td>\n",
       "      <td>42000.00000</td>\n",
       "      <td>42000.000000</td>\n",
       "      <td>42000.000000</td>\n",
       "      <td>42000.0</td>\n",
       "      <td>42000.0</td>\n",
       "      <td>42000.0</td>\n",
       "      <td>42000.0</td>\n",
       "    </tr>\n",
       "    <tr>\n",
       "      <th>mean</th>\n",
       "      <td>4.456643</td>\n",
       "      <td>0.0</td>\n",
       "      <td>0.0</td>\n",
       "      <td>0.0</td>\n",
       "      <td>0.0</td>\n",
       "      <td>0.0</td>\n",
       "      <td>0.0</td>\n",
       "      <td>0.0</td>\n",
       "      <td>0.0</td>\n",
       "      <td>0.0</td>\n",
       "      <td>...</td>\n",
       "      <td>0.219286</td>\n",
       "      <td>0.117095</td>\n",
       "      <td>0.059024</td>\n",
       "      <td>0.02019</td>\n",
       "      <td>0.017238</td>\n",
       "      <td>0.002857</td>\n",
       "      <td>0.0</td>\n",
       "      <td>0.0</td>\n",
       "      <td>0.0</td>\n",
       "      <td>0.0</td>\n",
       "    </tr>\n",
       "    <tr>\n",
       "      <th>std</th>\n",
       "      <td>2.887730</td>\n",
       "      <td>0.0</td>\n",
       "      <td>0.0</td>\n",
       "      <td>0.0</td>\n",
       "      <td>0.0</td>\n",
       "      <td>0.0</td>\n",
       "      <td>0.0</td>\n",
       "      <td>0.0</td>\n",
       "      <td>0.0</td>\n",
       "      <td>0.0</td>\n",
       "      <td>...</td>\n",
       "      <td>6.312890</td>\n",
       "      <td>4.633819</td>\n",
       "      <td>3.274488</td>\n",
       "      <td>1.75987</td>\n",
       "      <td>1.894498</td>\n",
       "      <td>0.414264</td>\n",
       "      <td>0.0</td>\n",
       "      <td>0.0</td>\n",
       "      <td>0.0</td>\n",
       "      <td>0.0</td>\n",
       "    </tr>\n",
       "    <tr>\n",
       "      <th>min</th>\n",
       "      <td>0.000000</td>\n",
       "      <td>0.0</td>\n",
       "      <td>0.0</td>\n",
       "      <td>0.0</td>\n",
       "      <td>0.0</td>\n",
       "      <td>0.0</td>\n",
       "      <td>0.0</td>\n",
       "      <td>0.0</td>\n",
       "      <td>0.0</td>\n",
       "      <td>0.0</td>\n",
       "      <td>...</td>\n",
       "      <td>0.000000</td>\n",
       "      <td>0.000000</td>\n",
       "      <td>0.000000</td>\n",
       "      <td>0.00000</td>\n",
       "      <td>0.000000</td>\n",
       "      <td>0.000000</td>\n",
       "      <td>0.0</td>\n",
       "      <td>0.0</td>\n",
       "      <td>0.0</td>\n",
       "      <td>0.0</td>\n",
       "    </tr>\n",
       "    <tr>\n",
       "      <th>25%</th>\n",
       "      <td>2.000000</td>\n",
       "      <td>0.0</td>\n",
       "      <td>0.0</td>\n",
       "      <td>0.0</td>\n",
       "      <td>0.0</td>\n",
       "      <td>0.0</td>\n",
       "      <td>0.0</td>\n",
       "      <td>0.0</td>\n",
       "      <td>0.0</td>\n",
       "      <td>0.0</td>\n",
       "      <td>...</td>\n",
       "      <td>0.000000</td>\n",
       "      <td>0.000000</td>\n",
       "      <td>0.000000</td>\n",
       "      <td>0.00000</td>\n",
       "      <td>0.000000</td>\n",
       "      <td>0.000000</td>\n",
       "      <td>0.0</td>\n",
       "      <td>0.0</td>\n",
       "      <td>0.0</td>\n",
       "      <td>0.0</td>\n",
       "    </tr>\n",
       "    <tr>\n",
       "      <th>50%</th>\n",
       "      <td>4.000000</td>\n",
       "      <td>0.0</td>\n",
       "      <td>0.0</td>\n",
       "      <td>0.0</td>\n",
       "      <td>0.0</td>\n",
       "      <td>0.0</td>\n",
       "      <td>0.0</td>\n",
       "      <td>0.0</td>\n",
       "      <td>0.0</td>\n",
       "      <td>0.0</td>\n",
       "      <td>...</td>\n",
       "      <td>0.000000</td>\n",
       "      <td>0.000000</td>\n",
       "      <td>0.000000</td>\n",
       "      <td>0.00000</td>\n",
       "      <td>0.000000</td>\n",
       "      <td>0.000000</td>\n",
       "      <td>0.0</td>\n",
       "      <td>0.0</td>\n",
       "      <td>0.0</td>\n",
       "      <td>0.0</td>\n",
       "    </tr>\n",
       "    <tr>\n",
       "      <th>75%</th>\n",
       "      <td>7.000000</td>\n",
       "      <td>0.0</td>\n",
       "      <td>0.0</td>\n",
       "      <td>0.0</td>\n",
       "      <td>0.0</td>\n",
       "      <td>0.0</td>\n",
       "      <td>0.0</td>\n",
       "      <td>0.0</td>\n",
       "      <td>0.0</td>\n",
       "      <td>0.0</td>\n",
       "      <td>...</td>\n",
       "      <td>0.000000</td>\n",
       "      <td>0.000000</td>\n",
       "      <td>0.000000</td>\n",
       "      <td>0.00000</td>\n",
       "      <td>0.000000</td>\n",
       "      <td>0.000000</td>\n",
       "      <td>0.0</td>\n",
       "      <td>0.0</td>\n",
       "      <td>0.0</td>\n",
       "      <td>0.0</td>\n",
       "    </tr>\n",
       "    <tr>\n",
       "      <th>max</th>\n",
       "      <td>9.000000</td>\n",
       "      <td>0.0</td>\n",
       "      <td>0.0</td>\n",
       "      <td>0.0</td>\n",
       "      <td>0.0</td>\n",
       "      <td>0.0</td>\n",
       "      <td>0.0</td>\n",
       "      <td>0.0</td>\n",
       "      <td>0.0</td>\n",
       "      <td>0.0</td>\n",
       "      <td>...</td>\n",
       "      <td>254.000000</td>\n",
       "      <td>254.000000</td>\n",
       "      <td>253.000000</td>\n",
       "      <td>253.00000</td>\n",
       "      <td>254.000000</td>\n",
       "      <td>62.000000</td>\n",
       "      <td>0.0</td>\n",
       "      <td>0.0</td>\n",
       "      <td>0.0</td>\n",
       "      <td>0.0</td>\n",
       "    </tr>\n",
       "  </tbody>\n",
       "</table>\n",
       "<p>8 rows × 785 columns</p>\n",
       "</div>"
      ],
      "text/plain": [
       "              label   pixel0   pixel1   pixel2   pixel3   pixel4   pixel5  \\\n",
       "count  42000.000000  42000.0  42000.0  42000.0  42000.0  42000.0  42000.0   \n",
       "mean       4.456643      0.0      0.0      0.0      0.0      0.0      0.0   \n",
       "std        2.887730      0.0      0.0      0.0      0.0      0.0      0.0   \n",
       "min        0.000000      0.0      0.0      0.0      0.0      0.0      0.0   \n",
       "25%        2.000000      0.0      0.0      0.0      0.0      0.0      0.0   \n",
       "50%        4.000000      0.0      0.0      0.0      0.0      0.0      0.0   \n",
       "75%        7.000000      0.0      0.0      0.0      0.0      0.0      0.0   \n",
       "max        9.000000      0.0      0.0      0.0      0.0      0.0      0.0   \n",
       "\n",
       "        pixel6   pixel7   pixel8  ...      pixel774      pixel775  \\\n",
       "count  42000.0  42000.0  42000.0  ...  42000.000000  42000.000000   \n",
       "mean       0.0      0.0      0.0  ...      0.219286      0.117095   \n",
       "std        0.0      0.0      0.0  ...      6.312890      4.633819   \n",
       "min        0.0      0.0      0.0  ...      0.000000      0.000000   \n",
       "25%        0.0      0.0      0.0  ...      0.000000      0.000000   \n",
       "50%        0.0      0.0      0.0  ...      0.000000      0.000000   \n",
       "75%        0.0      0.0      0.0  ...      0.000000      0.000000   \n",
       "max        0.0      0.0      0.0  ...    254.000000    254.000000   \n",
       "\n",
       "           pixel776     pixel777      pixel778      pixel779  pixel780  \\\n",
       "count  42000.000000  42000.00000  42000.000000  42000.000000   42000.0   \n",
       "mean       0.059024      0.02019      0.017238      0.002857       0.0   \n",
       "std        3.274488      1.75987      1.894498      0.414264       0.0   \n",
       "min        0.000000      0.00000      0.000000      0.000000       0.0   \n",
       "25%        0.000000      0.00000      0.000000      0.000000       0.0   \n",
       "50%        0.000000      0.00000      0.000000      0.000000       0.0   \n",
       "75%        0.000000      0.00000      0.000000      0.000000       0.0   \n",
       "max      253.000000    253.00000    254.000000     62.000000       0.0   \n",
       "\n",
       "       pixel781  pixel782  pixel783  \n",
       "count   42000.0   42000.0   42000.0  \n",
       "mean        0.0       0.0       0.0  \n",
       "std         0.0       0.0       0.0  \n",
       "min         0.0       0.0       0.0  \n",
       "25%         0.0       0.0       0.0  \n",
       "50%         0.0       0.0       0.0  \n",
       "75%         0.0       0.0       0.0  \n",
       "max         0.0       0.0       0.0  \n",
       "\n",
       "[8 rows x 785 columns]"
      ]
     },
     "execution_count": 4,
     "metadata": {},
     "output_type": "execute_result"
    }
   ],
   "source": [
    "train.describe()"
   ]
  },
  {
   "cell_type": "code",
   "execution_count": 5,
   "metadata": {
    "execution": {
     "iopub.execute_input": "2021-01-06T12:44:10.089781Z",
     "iopub.status.busy": "2021-01-06T12:44:10.089270Z",
     "iopub.status.idle": "2021-01-06T12:44:10.103338Z",
     "shell.execute_reply": "2021-01-06T12:44:10.102894Z"
    },
    "papermill": {
     "duration": 0.034505,
     "end_time": "2021-01-06T12:44:10.103426",
     "exception": false,
     "start_time": "2021-01-06T12:44:10.068921",
     "status": "completed"
    },
    "tags": []
   },
   "outputs": [
    {
     "data": {
      "text/html": [
       "<div>\n",
       "<style scoped>\n",
       "    .dataframe tbody tr th:only-of-type {\n",
       "        vertical-align: middle;\n",
       "    }\n",
       "\n",
       "    .dataframe tbody tr th {\n",
       "        vertical-align: top;\n",
       "    }\n",
       "\n",
       "    .dataframe thead th {\n",
       "        text-align: right;\n",
       "    }\n",
       "</style>\n",
       "<table border=\"1\" class=\"dataframe\">\n",
       "  <thead>\n",
       "    <tr style=\"text-align: right;\">\n",
       "      <th></th>\n",
       "      <th>label</th>\n",
       "      <th>pixel0</th>\n",
       "      <th>pixel1</th>\n",
       "      <th>pixel2</th>\n",
       "      <th>pixel3</th>\n",
       "      <th>pixel4</th>\n",
       "      <th>pixel5</th>\n",
       "      <th>pixel6</th>\n",
       "      <th>pixel7</th>\n",
       "      <th>pixel8</th>\n",
       "      <th>...</th>\n",
       "      <th>pixel774</th>\n",
       "      <th>pixel775</th>\n",
       "      <th>pixel776</th>\n",
       "      <th>pixel777</th>\n",
       "      <th>pixel778</th>\n",
       "      <th>pixel779</th>\n",
       "      <th>pixel780</th>\n",
       "      <th>pixel781</th>\n",
       "      <th>pixel782</th>\n",
       "      <th>pixel783</th>\n",
       "    </tr>\n",
       "  </thead>\n",
       "  <tbody>\n",
       "    <tr>\n",
       "      <th>0</th>\n",
       "      <td>1</td>\n",
       "      <td>0</td>\n",
       "      <td>0</td>\n",
       "      <td>0</td>\n",
       "      <td>0</td>\n",
       "      <td>0</td>\n",
       "      <td>0</td>\n",
       "      <td>0</td>\n",
       "      <td>0</td>\n",
       "      <td>0</td>\n",
       "      <td>...</td>\n",
       "      <td>0</td>\n",
       "      <td>0</td>\n",
       "      <td>0</td>\n",
       "      <td>0</td>\n",
       "      <td>0</td>\n",
       "      <td>0</td>\n",
       "      <td>0</td>\n",
       "      <td>0</td>\n",
       "      <td>0</td>\n",
       "      <td>0</td>\n",
       "    </tr>\n",
       "    <tr>\n",
       "      <th>1</th>\n",
       "      <td>0</td>\n",
       "      <td>0</td>\n",
       "      <td>0</td>\n",
       "      <td>0</td>\n",
       "      <td>0</td>\n",
       "      <td>0</td>\n",
       "      <td>0</td>\n",
       "      <td>0</td>\n",
       "      <td>0</td>\n",
       "      <td>0</td>\n",
       "      <td>...</td>\n",
       "      <td>0</td>\n",
       "      <td>0</td>\n",
       "      <td>0</td>\n",
       "      <td>0</td>\n",
       "      <td>0</td>\n",
       "      <td>0</td>\n",
       "      <td>0</td>\n",
       "      <td>0</td>\n",
       "      <td>0</td>\n",
       "      <td>0</td>\n",
       "    </tr>\n",
       "    <tr>\n",
       "      <th>2</th>\n",
       "      <td>1</td>\n",
       "      <td>0</td>\n",
       "      <td>0</td>\n",
       "      <td>0</td>\n",
       "      <td>0</td>\n",
       "      <td>0</td>\n",
       "      <td>0</td>\n",
       "      <td>0</td>\n",
       "      <td>0</td>\n",
       "      <td>0</td>\n",
       "      <td>...</td>\n",
       "      <td>0</td>\n",
       "      <td>0</td>\n",
       "      <td>0</td>\n",
       "      <td>0</td>\n",
       "      <td>0</td>\n",
       "      <td>0</td>\n",
       "      <td>0</td>\n",
       "      <td>0</td>\n",
       "      <td>0</td>\n",
       "      <td>0</td>\n",
       "    </tr>\n",
       "    <tr>\n",
       "      <th>3</th>\n",
       "      <td>4</td>\n",
       "      <td>0</td>\n",
       "      <td>0</td>\n",
       "      <td>0</td>\n",
       "      <td>0</td>\n",
       "      <td>0</td>\n",
       "      <td>0</td>\n",
       "      <td>0</td>\n",
       "      <td>0</td>\n",
       "      <td>0</td>\n",
       "      <td>...</td>\n",
       "      <td>0</td>\n",
       "      <td>0</td>\n",
       "      <td>0</td>\n",
       "      <td>0</td>\n",
       "      <td>0</td>\n",
       "      <td>0</td>\n",
       "      <td>0</td>\n",
       "      <td>0</td>\n",
       "      <td>0</td>\n",
       "      <td>0</td>\n",
       "    </tr>\n",
       "    <tr>\n",
       "      <th>4</th>\n",
       "      <td>0</td>\n",
       "      <td>0</td>\n",
       "      <td>0</td>\n",
       "      <td>0</td>\n",
       "      <td>0</td>\n",
       "      <td>0</td>\n",
       "      <td>0</td>\n",
       "      <td>0</td>\n",
       "      <td>0</td>\n",
       "      <td>0</td>\n",
       "      <td>...</td>\n",
       "      <td>0</td>\n",
       "      <td>0</td>\n",
       "      <td>0</td>\n",
       "      <td>0</td>\n",
       "      <td>0</td>\n",
       "      <td>0</td>\n",
       "      <td>0</td>\n",
       "      <td>0</td>\n",
       "      <td>0</td>\n",
       "      <td>0</td>\n",
       "    </tr>\n",
       "  </tbody>\n",
       "</table>\n",
       "<p>5 rows × 785 columns</p>\n",
       "</div>"
      ],
      "text/plain": [
       "   label  pixel0  pixel1  pixel2  pixel3  pixel4  pixel5  pixel6  pixel7  \\\n",
       "0      1       0       0       0       0       0       0       0       0   \n",
       "1      0       0       0       0       0       0       0       0       0   \n",
       "2      1       0       0       0       0       0       0       0       0   \n",
       "3      4       0       0       0       0       0       0       0       0   \n",
       "4      0       0       0       0       0       0       0       0       0   \n",
       "\n",
       "   pixel8  ...  pixel774  pixel775  pixel776  pixel777  pixel778  pixel779  \\\n",
       "0       0  ...         0         0         0         0         0         0   \n",
       "1       0  ...         0         0         0         0         0         0   \n",
       "2       0  ...         0         0         0         0         0         0   \n",
       "3       0  ...         0         0         0         0         0         0   \n",
       "4       0  ...         0         0         0         0         0         0   \n",
       "\n",
       "   pixel780  pixel781  pixel782  pixel783  \n",
       "0         0         0         0         0  \n",
       "1         0         0         0         0  \n",
       "2         0         0         0         0  \n",
       "3         0         0         0         0  \n",
       "4         0         0         0         0  \n",
       "\n",
       "[5 rows x 785 columns]"
      ]
     },
     "execution_count": 5,
     "metadata": {},
     "output_type": "execute_result"
    }
   ],
   "source": [
    "train.head()"
   ]
  },
  {
   "cell_type": "code",
   "execution_count": 6,
   "metadata": {
    "execution": {
     "iopub.execute_input": "2021-01-06T12:44:10.152080Z",
     "iopub.status.busy": "2021-01-06T12:44:10.150859Z",
     "iopub.status.idle": "2021-01-06T12:44:10.154823Z",
     "shell.execute_reply": "2021-01-06T12:44:10.155233Z"
    },
    "papermill": {
     "duration": 0.03476,
     "end_time": "2021-01-06T12:44:10.155327",
     "exception": false,
     "start_time": "2021-01-06T12:44:10.120567",
     "status": "completed"
    },
    "tags": []
   },
   "outputs": [
    {
     "data": {
      "text/html": [
       "<div>\n",
       "<style scoped>\n",
       "    .dataframe tbody tr th:only-of-type {\n",
       "        vertical-align: middle;\n",
       "    }\n",
       "\n",
       "    .dataframe tbody tr th {\n",
       "        vertical-align: top;\n",
       "    }\n",
       "\n",
       "    .dataframe thead th {\n",
       "        text-align: right;\n",
       "    }\n",
       "</style>\n",
       "<table border=\"1\" class=\"dataframe\">\n",
       "  <thead>\n",
       "    <tr style=\"text-align: right;\">\n",
       "      <th></th>\n",
       "      <th>pixel0</th>\n",
       "      <th>pixel1</th>\n",
       "      <th>pixel2</th>\n",
       "      <th>pixel3</th>\n",
       "      <th>pixel4</th>\n",
       "      <th>pixel5</th>\n",
       "      <th>pixel6</th>\n",
       "      <th>pixel7</th>\n",
       "      <th>pixel8</th>\n",
       "      <th>pixel9</th>\n",
       "      <th>...</th>\n",
       "      <th>pixel774</th>\n",
       "      <th>pixel775</th>\n",
       "      <th>pixel776</th>\n",
       "      <th>pixel777</th>\n",
       "      <th>pixel778</th>\n",
       "      <th>pixel779</th>\n",
       "      <th>pixel780</th>\n",
       "      <th>pixel781</th>\n",
       "      <th>pixel782</th>\n",
       "      <th>pixel783</th>\n",
       "    </tr>\n",
       "  </thead>\n",
       "  <tbody>\n",
       "    <tr>\n",
       "      <th>0</th>\n",
       "      <td>0</td>\n",
       "      <td>0</td>\n",
       "      <td>0</td>\n",
       "      <td>0</td>\n",
       "      <td>0</td>\n",
       "      <td>0</td>\n",
       "      <td>0</td>\n",
       "      <td>0</td>\n",
       "      <td>0</td>\n",
       "      <td>0</td>\n",
       "      <td>...</td>\n",
       "      <td>0</td>\n",
       "      <td>0</td>\n",
       "      <td>0</td>\n",
       "      <td>0</td>\n",
       "      <td>0</td>\n",
       "      <td>0</td>\n",
       "      <td>0</td>\n",
       "      <td>0</td>\n",
       "      <td>0</td>\n",
       "      <td>0</td>\n",
       "    </tr>\n",
       "    <tr>\n",
       "      <th>1</th>\n",
       "      <td>0</td>\n",
       "      <td>0</td>\n",
       "      <td>0</td>\n",
       "      <td>0</td>\n",
       "      <td>0</td>\n",
       "      <td>0</td>\n",
       "      <td>0</td>\n",
       "      <td>0</td>\n",
       "      <td>0</td>\n",
       "      <td>0</td>\n",
       "      <td>...</td>\n",
       "      <td>0</td>\n",
       "      <td>0</td>\n",
       "      <td>0</td>\n",
       "      <td>0</td>\n",
       "      <td>0</td>\n",
       "      <td>0</td>\n",
       "      <td>0</td>\n",
       "      <td>0</td>\n",
       "      <td>0</td>\n",
       "      <td>0</td>\n",
       "    </tr>\n",
       "    <tr>\n",
       "      <th>2</th>\n",
       "      <td>0</td>\n",
       "      <td>0</td>\n",
       "      <td>0</td>\n",
       "      <td>0</td>\n",
       "      <td>0</td>\n",
       "      <td>0</td>\n",
       "      <td>0</td>\n",
       "      <td>0</td>\n",
       "      <td>0</td>\n",
       "      <td>0</td>\n",
       "      <td>...</td>\n",
       "      <td>0</td>\n",
       "      <td>0</td>\n",
       "      <td>0</td>\n",
       "      <td>0</td>\n",
       "      <td>0</td>\n",
       "      <td>0</td>\n",
       "      <td>0</td>\n",
       "      <td>0</td>\n",
       "      <td>0</td>\n",
       "      <td>0</td>\n",
       "    </tr>\n",
       "    <tr>\n",
       "      <th>3</th>\n",
       "      <td>0</td>\n",
       "      <td>0</td>\n",
       "      <td>0</td>\n",
       "      <td>0</td>\n",
       "      <td>0</td>\n",
       "      <td>0</td>\n",
       "      <td>0</td>\n",
       "      <td>0</td>\n",
       "      <td>0</td>\n",
       "      <td>0</td>\n",
       "      <td>...</td>\n",
       "      <td>0</td>\n",
       "      <td>0</td>\n",
       "      <td>0</td>\n",
       "      <td>0</td>\n",
       "      <td>0</td>\n",
       "      <td>0</td>\n",
       "      <td>0</td>\n",
       "      <td>0</td>\n",
       "      <td>0</td>\n",
       "      <td>0</td>\n",
       "    </tr>\n",
       "    <tr>\n",
       "      <th>4</th>\n",
       "      <td>0</td>\n",
       "      <td>0</td>\n",
       "      <td>0</td>\n",
       "      <td>0</td>\n",
       "      <td>0</td>\n",
       "      <td>0</td>\n",
       "      <td>0</td>\n",
       "      <td>0</td>\n",
       "      <td>0</td>\n",
       "      <td>0</td>\n",
       "      <td>...</td>\n",
       "      <td>0</td>\n",
       "      <td>0</td>\n",
       "      <td>0</td>\n",
       "      <td>0</td>\n",
       "      <td>0</td>\n",
       "      <td>0</td>\n",
       "      <td>0</td>\n",
       "      <td>0</td>\n",
       "      <td>0</td>\n",
       "      <td>0</td>\n",
       "    </tr>\n",
       "  </tbody>\n",
       "</table>\n",
       "<p>5 rows × 784 columns</p>\n",
       "</div>"
      ],
      "text/plain": [
       "   pixel0  pixel1  pixel2  pixel3  pixel4  pixel5  pixel6  pixel7  pixel8  \\\n",
       "0       0       0       0       0       0       0       0       0       0   \n",
       "1       0       0       0       0       0       0       0       0       0   \n",
       "2       0       0       0       0       0       0       0       0       0   \n",
       "3       0       0       0       0       0       0       0       0       0   \n",
       "4       0       0       0       0       0       0       0       0       0   \n",
       "\n",
       "   pixel9  ...  pixel774  pixel775  pixel776  pixel777  pixel778  pixel779  \\\n",
       "0       0  ...         0         0         0         0         0         0   \n",
       "1       0  ...         0         0         0         0         0         0   \n",
       "2       0  ...         0         0         0         0         0         0   \n",
       "3       0  ...         0         0         0         0         0         0   \n",
       "4       0  ...         0         0         0         0         0         0   \n",
       "\n",
       "   pixel780  pixel781  pixel782  pixel783  \n",
       "0         0         0         0         0  \n",
       "1         0         0         0         0  \n",
       "2         0         0         0         0  \n",
       "3         0         0         0         0  \n",
       "4         0         0         0         0  \n",
       "\n",
       "[5 rows x 784 columns]"
      ]
     },
     "execution_count": 6,
     "metadata": {},
     "output_type": "execute_result"
    }
   ],
   "source": [
    "test.head()"
   ]
  },
  {
   "cell_type": "code",
   "execution_count": 7,
   "metadata": {
    "execution": {
     "iopub.execute_input": "2021-01-06T12:44:10.194927Z",
     "iopub.status.busy": "2021-01-06T12:44:10.193550Z",
     "iopub.status.idle": "2021-01-06T12:44:10.206539Z",
     "shell.execute_reply": "2021-01-06T12:44:10.206076Z"
    },
    "papermill": {
     "duration": 0.034031,
     "end_time": "2021-01-06T12:44:10.206621",
     "exception": false,
     "start_time": "2021-01-06T12:44:10.172590",
     "status": "completed"
    },
    "tags": []
   },
   "outputs": [
    {
     "data": {
      "text/plain": [
       "0"
      ]
     },
     "execution_count": 7,
     "metadata": {},
     "output_type": "execute_result"
    }
   ],
   "source": [
    "# Checking missing values\n",
    "train.isnull().any().sum()"
   ]
  },
  {
   "cell_type": "code",
   "execution_count": 8,
   "metadata": {
    "execution": {
     "iopub.execute_input": "2021-01-06T12:44:10.246898Z",
     "iopub.status.busy": "2021-01-06T12:44:10.245882Z",
     "iopub.status.idle": "2021-01-06T12:44:10.256762Z",
     "shell.execute_reply": "2021-01-06T12:44:10.256322Z"
    },
    "papermill": {
     "duration": 0.032554,
     "end_time": "2021-01-06T12:44:10.256842",
     "exception": false,
     "start_time": "2021-01-06T12:44:10.224288",
     "status": "completed"
    },
    "tags": []
   },
   "outputs": [
    {
     "data": {
      "text/plain": [
       "0"
      ]
     },
     "execution_count": 8,
     "metadata": {},
     "output_type": "execute_result"
    }
   ],
   "source": [
    "test.isnull().any().sum()"
   ]
  },
  {
   "cell_type": "code",
   "execution_count": 9,
   "metadata": {
    "execution": {
     "iopub.execute_input": "2021-01-06T12:44:10.298492Z",
     "iopub.status.busy": "2021-01-06T12:44:10.296798Z",
     "iopub.status.idle": "2021-01-06T12:44:10.299094Z",
     "shell.execute_reply": "2021-01-06T12:44:10.299549Z"
    },
    "papermill": {
     "duration": 0.024678,
     "end_time": "2021-01-06T12:44:10.299648",
     "exception": false,
     "start_time": "2021-01-06T12:44:10.274970",
     "status": "completed"
    },
    "tags": []
   },
   "outputs": [],
   "source": [
    "X = train.iloc[:, 1:]\n",
    "y = train.iloc[:, 0]"
   ]
  },
  {
   "cell_type": "code",
   "execution_count": 10,
   "metadata": {
    "execution": {
     "iopub.execute_input": "2021-01-06T12:44:10.340237Z",
     "iopub.status.busy": "2021-01-06T12:44:10.339694Z",
     "iopub.status.idle": "2021-01-06T12:44:10.343282Z",
     "shell.execute_reply": "2021-01-06T12:44:10.342802Z"
    },
    "papermill": {
     "duration": 0.025526,
     "end_time": "2021-01-06T12:44:10.343368",
     "exception": false,
     "start_time": "2021-01-06T12:44:10.317842",
     "status": "completed"
    },
    "tags": []
   },
   "outputs": [],
   "source": [
    "# Reshaping data into images and suitable for CNN matrixes (np.ndarray)\n",
    "\n",
    "X = X.values.reshape(-1, 28, 28, 1)\n",
    "test = test.values.reshape(-1, 28, 28, 1)"
   ]
  },
  {
   "cell_type": "code",
   "execution_count": 11,
   "metadata": {
    "execution": {
     "iopub.execute_input": "2021-01-06T12:44:10.385439Z",
     "iopub.status.busy": "2021-01-06T12:44:10.384317Z",
     "iopub.status.idle": "2021-01-06T12:44:10.387167Z",
     "shell.execute_reply": "2021-01-06T12:44:10.386764Z"
    },
    "papermill": {
     "duration": 0.024987,
     "end_time": "2021-01-06T12:44:10.387265",
     "exception": false,
     "start_time": "2021-01-06T12:44:10.362278",
     "status": "completed"
    },
    "tags": []
   },
   "outputs": [],
   "source": [
    "def normalize(arr): \n",
    "    return (arr - np.mean(arr)) / np.std(arr)"
   ]
  },
  {
   "cell_type": "code",
   "execution_count": 12,
   "metadata": {
    "execution": {
     "iopub.execute_input": "2021-01-06T12:44:10.428368Z",
     "iopub.status.busy": "2021-01-06T12:44:10.427573Z",
     "iopub.status.idle": "2021-01-06T12:44:10.980694Z",
     "shell.execute_reply": "2021-01-06T12:44:10.980176Z"
    },
    "papermill": {
     "duration": 0.574987,
     "end_time": "2021-01-06T12:44:10.980800",
     "exception": false,
     "start_time": "2021-01-06T12:44:10.405813",
     "status": "completed"
    },
    "tags": []
   },
   "outputs": [],
   "source": [
    "X = normalize(X)\n",
    "test = normalize(test)"
   ]
  },
  {
   "cell_type": "code",
   "execution_count": 13,
   "metadata": {
    "execution": {
     "iopub.execute_input": "2021-01-06T12:44:11.031573Z",
     "iopub.status.busy": "2021-01-06T12:44:11.030431Z",
     "iopub.status.idle": "2021-01-06T12:44:11.209483Z",
     "shell.execute_reply": "2021-01-06T12:44:11.209940Z"
    },
    "papermill": {
     "duration": 0.207024,
     "end_time": "2021-01-06T12:44:11.210064",
     "exception": false,
     "start_time": "2021-01-06T12:44:11.003040",
     "status": "completed"
    },
    "tags": []
   },
   "outputs": [
    {
     "name": "stdout",
     "output_type": "stream",
     "text": [
      "Mean: 0.000, Standard Deviation: 1.000\n"
     ]
    }
   ],
   "source": [
    "# Sanity check\n",
    "mean, std = np.mean(X), np.std(X)\n",
    "print('Mean: %.3f, Standard Deviation: %.3f' % (mean, std))"
   ]
  },
  {
   "cell_type": "code",
   "execution_count": 14,
   "metadata": {
    "execution": {
     "iopub.execute_input": "2021-01-06T12:44:11.257976Z",
     "iopub.status.busy": "2021-01-06T12:44:11.257399Z",
     "iopub.status.idle": "2021-01-06T12:44:11.431841Z",
     "shell.execute_reply": "2021-01-06T12:44:11.431414Z"
    },
    "papermill": {
     "duration": 0.200117,
     "end_time": "2021-01-06T12:44:11.431938",
     "exception": false,
     "start_time": "2021-01-06T12:44:11.231821",
     "status": "completed"
    },
    "tags": []
   },
   "outputs": [
    {
     "data": {
      "image/png": "[encoded data removed]",
      "text/plain": [
       "<Figure size 432x288 with 1 Axes>"
      ]
     },
     "metadata": {
      "needs_background": "light"
     },
     "output_type": "display_data"
    }
   ],
   "source": [
    "# Showing random digit\n",
    "plt.imshow(X[np.random.randint(0, len(X)), :, :, 0], cmap='binary');"
   ]
  },
  {
   "cell_type": "code",
   "execution_count": 15,
   "metadata": {
    "execution": {
     "iopub.execute_input": "2021-01-06T12:44:11.478146Z",
     "iopub.status.busy": "2021-01-06T12:44:11.477601Z",
     "iopub.status.idle": "2021-01-06T12:44:11.481859Z",
     "shell.execute_reply": "2021-01-06T12:44:11.481437Z"
    },
    "papermill": {
     "duration": 0.029521,
     "end_time": "2021-01-06T12:44:11.481951",
     "exception": false,
     "start_time": "2021-01-06T12:44:11.452430",
     "status": "completed"
    },
    "tags": []
   },
   "outputs": [],
   "source": [
    "# Image augmentation generator \n",
    "datagen = ImageDataGenerator(\n",
    "            rotation_range=20,  # randomly rotate images in the range (degrees, 0 to 20)\n",
    "            zoom_range = 0.1, # Randomly zoom image \n",
    "            width_shift_range=0.1,  # randomly shift images horizontally (fraction of total width)\n",
    "            height_shift_range=0.1,  # randomly shift images vertically (fraction of total height)\n",
    "            horizontal_flip=False, \n",
    "            vertical_flip=False)  "
   ]
  },
  {
   "cell_type": "code",
   "execution_count": 16,
   "metadata": {
    "execution": {
     "iopub.execute_input": "2021-01-06T12:44:11.528812Z",
     "iopub.status.busy": "2021-01-06T12:44:11.527748Z",
     "iopub.status.idle": "2021-01-06T12:44:11.900726Z",
     "shell.execute_reply": "2021-01-06T12:44:11.900244Z"
    },
    "papermill": {
     "duration": 0.398329,
     "end_time": "2021-01-06T12:44:11.900833",
     "exception": false,
     "start_time": "2021-01-06T12:44:11.502504",
     "status": "completed"
    },
    "tags": []
   },
   "outputs": [],
   "source": [
    "# Train/test split to augment only training data\n",
    "X_train, X_test, y_train, y_test = train_test_split(X, y, test_size=0.15)"
   ]
  },
  {
   "cell_type": "code",
   "execution_count": 17,
   "metadata": {
    "execution": {
     "iopub.execute_input": "2021-01-06T12:44:11.946397Z",
     "iopub.status.busy": "2021-01-06T12:44:11.945348Z",
     "iopub.status.idle": "2021-01-06T12:44:12.035419Z",
     "shell.execute_reply": "2021-01-06T12:44:12.034936Z"
    },
    "papermill": {
     "duration": 0.113977,
     "end_time": "2021-01-06T12:44:12.035528",
     "exception": false,
     "start_time": "2021-01-06T12:44:11.921551",
     "status": "completed"
    },
    "tags": []
   },
   "outputs": [],
   "source": [
    "# fitting a generator\n",
    "datagen.fit(X_train)"
   ]
  },
  {
   "cell_type": "code",
   "execution_count": 18,
   "metadata": {
    "execution": {
     "iopub.execute_input": "2021-01-06T12:44:12.082784Z",
     "iopub.status.busy": "2021-01-06T12:44:12.082049Z",
     "iopub.status.idle": "2021-01-06T12:44:12.085603Z",
     "shell.execute_reply": "2021-01-06T12:44:12.085160Z"
    },
    "papermill": {
     "duration": 0.028141,
     "end_time": "2021-01-06T12:44:12.085691",
     "exception": false,
     "start_time": "2021-01-06T12:44:12.057550",
     "status": "completed"
    },
    "tags": []
   },
   "outputs": [],
   "source": [
    "# OHE output - encoding 10 different digits \n",
    "\n",
    "y_train = to_categorical(y_train, num_classes=10)\n",
    "y_test = to_categorical(y_test, num_classes=10)"
   ]
  },
  {
   "cell_type": "code",
   "execution_count": 19,
   "metadata": {
    "execution": {
     "iopub.execute_input": "2021-01-06T12:44:12.140864Z",
     "iopub.status.busy": "2021-01-06T12:44:12.140029Z",
     "iopub.status.idle": "2021-01-06T12:44:15.511534Z",
     "shell.execute_reply": "2021-01-06T12:44:15.510817Z"
    },
    "papermill": {
     "duration": 3.405124,
     "end_time": "2021-01-06T12:44:15.511682",
     "exception": false,
     "start_time": "2021-01-06T12:44:12.106558",
     "status": "completed"
    },
    "tags": []
   },
   "outputs": [],
   "source": [
    "# Buildng CNN in Keras \n",
    "\n",
    "model = Sequential()\n",
    "\n",
    "# Stage 1\n",
    "# Adding two convolutions\n",
    "model.add(Conv2D(filters=32, kernel_size=(3, 3), activation='relu', strides=1, padding='same', data_format='channels_last',\n",
    "                 input_shape=(28,28,1)))\n",
    "model.add(BatchNormalization())\n",
    "# Adding pooling layer to reduce number of input params \n",
    "model.add(MaxPooling2D(pool_size=(2, 2), strides=1, padding='valid'))\n",
    "\n",
    "# Stage 2 \n",
    "# Adding similar Conv + Norm + MaxPool layer\n",
    "model.add(Conv2D(filters=32, kernel_size=(3, 3), activation='relu', strides=1, padding='same', data_format='channels_last'))\n",
    "model.add(BatchNormalization())\n",
    "model.add(MaxPooling2D(pool_size=(2, 2), strides=1, padding='valid'))\n",
    "\n",
    "# Stage 3-4\n",
    "# Adding a copy of previous Conv + MaxPool layers\n",
    "model.add(Conv2D(filters=32, kernel_size=(3, 3), activation='relu', strides=1, padding='same', data_format='channels_last',\n",
    "                 input_shape=(28,28,1)))\n",
    "model.add(BatchNormalization())\n",
    "model.add(MaxPooling2D(pool_size=(2, 2), strides=1, padding='valid'))\n",
    "model.add(Conv2D(filters=32, kernel_size=(3, 3), activation='relu', strides=1, padding='same', data_format='channels_last'))\n",
    "model.add(BatchNormalization())\n",
    "model.add(MaxPooling2D(pool_size=(2, 2), strides=1, padding='valid'))\n",
    "\n",
    "# Converting our matrix to 1-D set of features \n",
    "model.add(Flatten())\n",
    "\n",
    "\n",
    "# Stage-5 \n",
    "# Adding fully-conected layers\n",
    "model.add(Dense(1024, activation='relu'))\n",
    "model.add(BatchNormalization())\n",
    "model.add(Dense(512, activation='relu'))\n",
    "model.add(BatchNormalization())\n",
    "\n",
    "# Adding output softmax layer for multilabel classification\n",
    "model.add(Dense(10, activation='softmax'))"
   ]
  },
  {
   "cell_type": "code",
   "execution_count": 20,
   "metadata": {
    "execution": {
     "iopub.execute_input": "2021-01-06T12:44:15.593082Z",
     "iopub.status.busy": "2021-01-06T12:44:15.592197Z",
     "iopub.status.idle": "2021-01-06T12:44:15.594498Z",
     "shell.execute_reply": "2021-01-06T12:44:15.593811Z"
    },
    "papermill": {
     "duration": 0.045857,
     "end_time": "2021-01-06T12:44:15.594621",
     "exception": false,
     "start_time": "2021-01-06T12:44:15.548764",
     "status": "completed"
    },
    "tags": []
   },
   "outputs": [],
   "source": [
    "# Adding optimizer\n",
    "optimizer = Adam(lr=0.001, beta_1=0.9, beta_2=0.999) # beta-1 and beta-2 are \"no brainers\" - Andrew Ng "
   ]
  },
  {
   "cell_type": "code",
   "execution_count": 21,
   "metadata": {
    "execution": {
     "iopub.execute_input": "2021-01-06T12:44:15.676436Z",
     "iopub.status.busy": "2021-01-06T12:44:15.675596Z",
     "iopub.status.idle": "2021-01-06T12:44:15.682478Z",
     "shell.execute_reply": "2021-01-06T12:44:15.681909Z"
    },
    "papermill": {
     "duration": 0.053182,
     "end_time": "2021-01-06T12:44:15.682576",
     "exception": false,
     "start_time": "2021-01-06T12:44:15.629394",
     "status": "completed"
    },
    "tags": []
   },
   "outputs": [],
   "source": [
    "model.compile(optimizer=optimizer, loss='categorical_crossentropy', metrics=['categorical_accuracy'])"
   ]
  },
  {
   "cell_type": "code",
   "execution_count": 22,
   "metadata": {
    "execution": {
     "iopub.execute_input": "2021-01-06T12:44:15.728202Z",
     "iopub.status.busy": "2021-01-06T12:44:15.727680Z",
     "iopub.status.idle": "2021-01-06T12:44:15.731427Z",
     "shell.execute_reply": "2021-01-06T12:44:15.730957Z"
    },
    "papermill": {
     "duration": 0.027716,
     "end_time": "2021-01-06T12:44:15.731552",
     "exception": false,
     "start_time": "2021-01-06T12:44:15.703836",
     "status": "completed"
    },
    "tags": []
   },
   "outputs": [],
   "source": [
    "# Including learning rate decay - so to prevent overfitting\n",
    "reduce_lr = LearningRateScheduler(lambda x: 1e-3 * 0.9 ** x)"
   ]
  },
  {
   "cell_type": "code",
   "execution_count": 23,
   "metadata": {
    "execution": {
     "iopub.execute_input": "2021-01-06T12:44:15.777220Z",
     "iopub.status.busy": "2021-01-06T12:44:15.776695Z",
     "iopub.status.idle": "2021-01-06T12:44:15.780779Z",
     "shell.execute_reply": "2021-01-06T12:44:15.780374Z"
    },
    "papermill": {
     "duration": 0.028113,
     "end_time": "2021-01-06T12:44:15.780863",
     "exception": false,
     "start_time": "2021-01-06T12:44:15.752750",
     "status": "completed"
    },
    "tags": []
   },
   "outputs": [],
   "source": [
    "# Defining model parameters \n",
    "batch_size = 64\n",
    "epochs = 50"
   ]
  },
  {
   "cell_type": "code",
   "execution_count": 24,
   "metadata": {
    "execution": {
     "iopub.execute_input": "2021-01-06T12:44:15.862066Z",
     "iopub.status.busy": "2021-01-06T12:44:15.861024Z",
     "iopub.status.idle": "2021-01-06T12:55:11.228808Z",
     "shell.execute_reply": "2021-01-06T12:55:11.228316Z"
    },
    "papermill": {
     "duration": 655.395241,
     "end_time": "2021-01-06T12:55:11.228923",
     "exception": false,
     "start_time": "2021-01-06T12:44:15.833682",
     "status": "completed"
    },
    "tags": []
   },
   "outputs": [
    {
     "name": "stdout",
     "output_type": "stream",
     "text": [
      "Epoch 1/50\n",
      "557/557 [==============================] - 12s 22ms/step - loss: 0.2042 - categorical_accuracy: 0.9389 - val_loss: 0.0650 - val_categorical_accuracy: 0.9789\n",
      "Epoch 2/50\n",
      "557/557 [==============================] - 12s 22ms/step - loss: 0.0855 - categorical_accuracy: 0.9722 - val_loss: 0.0584 - val_categorical_accuracy: 0.9833\n",
      "Epoch 3/50\n",
      "557/557 [==============================] - 14s 25ms/step - loss: 0.0693 - categorical_accuracy: 0.9790 - val_loss: 0.0553 - val_categorical_accuracy: 0.9841\n",
      "Epoch 4/50\n",
      "557/557 [==============================] - 13s 24ms/step - loss: 0.0586 - categorical_accuracy: 0.9820 - val_loss: 0.0407 - val_categorical_accuracy: 0.9860\n",
      "Epoch 5/50\n",
      "557/557 [==============================] - 13s 23ms/step - loss: 0.0507 - categorical_accuracy: 0.9842 - val_loss: 0.0279 - val_categorical_accuracy: 0.9910\n",
      "Epoch 6/50\n",
      "557/557 [==============================] - 12s 22ms/step - loss: 0.0425 - categorical_accuracy: 0.9868 - val_loss: 0.0292 - val_categorical_accuracy: 0.9908\n",
      "Epoch 7/50\n",
      "557/557 [==============================] - 12s 22ms/step - loss: 0.0407 - categorical_accuracy: 0.9870 - val_loss: 0.0262 - val_categorical_accuracy: 0.9919\n",
      "Epoch 8/50\n",
      "557/557 [==============================] - 14s 24ms/step - loss: 0.0389 - categorical_accuracy: 0.9870 - val_loss: 0.0225 - val_categorical_accuracy: 0.9941\n",
      "Epoch 9/50\n",
      "557/557 [==============================] - 12s 22ms/step - loss: 0.0334 - categorical_accuracy: 0.9896 - val_loss: 0.0186 - val_categorical_accuracy: 0.9943\n",
      "Epoch 10/50\n",
      "557/557 [==============================] - 13s 24ms/step - loss: 0.0304 - categorical_accuracy: 0.9902 - val_loss: 0.0255 - val_categorical_accuracy: 0.9922\n",
      "Epoch 11/50\n",
      "557/557 [==============================] - 12s 22ms/step - loss: 0.0284 - categorical_accuracy: 0.9912 - val_loss: 0.0246 - val_categorical_accuracy: 0.9929\n",
      "Epoch 12/50\n",
      "557/557 [==============================] - 13s 23ms/step - loss: 0.0255 - categorical_accuracy: 0.9917 - val_loss: 0.0231 - val_categorical_accuracy: 0.9929\n",
      "Epoch 13/50\n",
      "557/557 [==============================] - 14s 25ms/step - loss: 0.0249 - categorical_accuracy: 0.9923 - val_loss: 0.0178 - val_categorical_accuracy: 0.9941\n",
      "Epoch 14/50\n",
      "557/557 [==============================] - 12s 22ms/step - loss: 0.0233 - categorical_accuracy: 0.9930 - val_loss: 0.0204 - val_categorical_accuracy: 0.9930\n",
      "Epoch 15/50\n",
      "557/557 [==============================] - 13s 24ms/step - loss: 0.0198 - categorical_accuracy: 0.9936 - val_loss: 0.0170 - val_categorical_accuracy: 0.9946\n",
      "Epoch 16/50\n",
      "557/557 [==============================] - 12s 22ms/step - loss: 0.0176 - categorical_accuracy: 0.9940 - val_loss: 0.0212 - val_categorical_accuracy: 0.9930\n",
      "Epoch 17/50\n",
      "557/557 [==============================] - 14s 24ms/step - loss: 0.0160 - categorical_accuracy: 0.9949 - val_loss: 0.0185 - val_categorical_accuracy: 0.9943\n",
      "Epoch 18/50\n",
      "557/557 [==============================] - 13s 23ms/step - loss: 0.0177 - categorical_accuracy: 0.9941 - val_loss: 0.0183 - val_categorical_accuracy: 0.9954\n",
      "Epoch 19/50\n",
      "557/557 [==============================] - 12s 21ms/step - loss: 0.0151 - categorical_accuracy: 0.9957 - val_loss: 0.0150 - val_categorical_accuracy: 0.9952\n",
      "Epoch 20/50\n",
      "557/557 [==============================] - 13s 24ms/step - loss: 0.0139 - categorical_accuracy: 0.9955 - val_loss: 0.0159 - val_categorical_accuracy: 0.9954\n",
      "Epoch 21/50\n",
      "557/557 [==============================] - 12s 21ms/step - loss: 0.0130 - categorical_accuracy: 0.9959 - val_loss: 0.0149 - val_categorical_accuracy: 0.9956\n",
      "Epoch 22/50\n",
      "557/557 [==============================] - 14s 26ms/step - loss: 0.0126 - categorical_accuracy: 0.9961 - val_loss: 0.0132 - val_categorical_accuracy: 0.9959\n",
      "Epoch 23/50\n",
      "557/557 [==============================] - 12s 22ms/step - loss: 0.0121 - categorical_accuracy: 0.9960 - val_loss: 0.0153 - val_categorical_accuracy: 0.9957\n",
      "Epoch 24/50\n",
      "557/557 [==============================] - 12s 22ms/step - loss: 0.0099 - categorical_accuracy: 0.9973 - val_loss: 0.0129 - val_categorical_accuracy: 0.9960\n",
      "Epoch 25/50\n",
      "557/557 [==============================] - 13s 24ms/step - loss: 0.0089 - categorical_accuracy: 0.9972 - val_loss: 0.0147 - val_categorical_accuracy: 0.9952\n",
      "Epoch 26/50\n",
      "557/557 [==============================] - 12s 21ms/step - loss: 0.0094 - categorical_accuracy: 0.9973 - val_loss: 0.0133 - val_categorical_accuracy: 0.9949\n",
      "Epoch 27/50\n",
      "557/557 [==============================] - 15s 26ms/step - loss: 0.0091 - categorical_accuracy: 0.9971 - val_loss: 0.0131 - val_categorical_accuracy: 0.9960\n",
      "Epoch 28/50\n",
      "557/557 [==============================] - 13s 22ms/step - loss: 0.0093 - categorical_accuracy: 0.9973 - val_loss: 0.0139 - val_categorical_accuracy: 0.9962\n",
      "Epoch 29/50\n",
      "557/557 [==============================] - 12s 22ms/step - loss: 0.0079 - categorical_accuracy: 0.9975 - val_loss: 0.0144 - val_categorical_accuracy: 0.9957\n",
      "Epoch 30/50\n",
      "557/557 [==============================] - 14s 25ms/step - loss: 0.0069 - categorical_accuracy: 0.9980 - val_loss: 0.0124 - val_categorical_accuracy: 0.9963\n",
      "Epoch 31/50\n",
      "557/557 [==============================] - 13s 23ms/step - loss: 0.0070 - categorical_accuracy: 0.9980 - val_loss: 0.0140 - val_categorical_accuracy: 0.9965\n",
      "Epoch 32/50\n",
      "557/557 [==============================] - 14s 25ms/step - loss: 0.0078 - categorical_accuracy: 0.9976 - val_loss: 0.0133 - val_categorical_accuracy: 0.9957\n",
      "Epoch 33/50\n",
      "557/557 [==============================] - 12s 22ms/step - loss: 0.0072 - categorical_accuracy: 0.9979 - val_loss: 0.0140 - val_categorical_accuracy: 0.9960\n",
      "Epoch 34/50\n",
      "557/557 [==============================] - 12s 22ms/step - loss: 0.0067 - categorical_accuracy: 0.9982 - val_loss: 0.0130 - val_categorical_accuracy: 0.9960\n",
      "Epoch 35/50\n",
      "557/557 [==============================] - 14s 25ms/step - loss: 0.0075 - categorical_accuracy: 0.9977 - val_loss: 0.0131 - val_categorical_accuracy: 0.9963\n",
      "Epoch 36/50\n",
      "557/557 [==============================] - 13s 24ms/step - loss: 0.0054 - categorical_accuracy: 0.9985 - val_loss: 0.0128 - val_categorical_accuracy: 0.9965\n",
      "Epoch 37/50\n",
      "557/557 [==============================] - 14s 25ms/step - loss: 0.0057 - categorical_accuracy: 0.9981 - val_loss: 0.0132 - val_categorical_accuracy: 0.9967\n",
      "Epoch 38/50\n",
      "557/557 [==============================] - 13s 23ms/step - loss: 0.0053 - categorical_accuracy: 0.9985 - val_loss: 0.0133 - val_categorical_accuracy: 0.9962\n",
      "Epoch 39/50\n",
      "557/557 [==============================] - 12s 22ms/step - loss: 0.0060 - categorical_accuracy: 0.9982 - val_loss: 0.0135 - val_categorical_accuracy: 0.9962\n",
      "Epoch 40/50\n",
      "557/557 [==============================] - 15s 27ms/step - loss: 0.0062 - categorical_accuracy: 0.9983 - val_loss: 0.0136 - val_categorical_accuracy: 0.9960\n",
      "Epoch 41/50\n",
      "557/557 [==============================] - 12s 22ms/step - loss: 0.0053 - categorical_accuracy: 0.9984 - val_loss: 0.0130 - val_categorical_accuracy: 0.9963\n",
      "Epoch 42/50\n",
      "557/557 [==============================] - 12s 22ms/step - loss: 0.0060 - categorical_accuracy: 0.9980 - val_loss: 0.0128 - val_categorical_accuracy: 0.9968\n",
      "Epoch 43/50\n",
      "557/557 [==============================] - 14s 25ms/step - loss: 0.0052 - categorical_accuracy: 0.9985 - val_loss: 0.0129 - val_categorical_accuracy: 0.9968\n",
      "Epoch 44/50\n",
      "557/557 [==============================] - 12s 22ms/step - loss: 0.0054 - categorical_accuracy: 0.9983 - val_loss: 0.0131 - val_categorical_accuracy: 0.9967\n",
      "Epoch 45/50\n",
      "557/557 [==============================] - 16s 28ms/step - loss: 0.0052 - categorical_accuracy: 0.9985 - val_loss: 0.0132 - val_categorical_accuracy: 0.9963\n",
      "Epoch 46/50\n",
      "557/557 [==============================] - 12s 22ms/step - loss: 0.0058 - categorical_accuracy: 0.9984 - val_loss: 0.0130 - val_categorical_accuracy: 0.9965\n",
      "Epoch 47/50\n",
      "557/557 [==============================] - 13s 23ms/step - loss: 0.0053 - categorical_accuracy: 0.9986 - val_loss: 0.0134 - val_categorical_accuracy: 0.9960\n",
      "Epoch 48/50\n",
      "557/557 [==============================] - 14s 26ms/step - loss: 0.0048 - categorical_accuracy: 0.9985 - val_loss: 0.0131 - val_categorical_accuracy: 0.9962\n",
      "Epoch 49/50\n",
      "557/557 [==============================] - 13s 23ms/step - loss: 0.0054 - categorical_accuracy: 0.9985 - val_loss: 0.0132 - val_categorical_accuracy: 0.9967\n",
      "Epoch 50/50\n",
      "557/557 [==============================] - 13s 23ms/step - loss: 0.0055 - categorical_accuracy: 0.9985 - val_loss: 0.0134 - val_categorical_accuracy: 0.9965\n"
     ]
    }
   ],
   "source": [
    "# Fitting the model\n",
    "history = model.fit_generator(datagen.flow(X_train, y_train, batch_size = batch_size), epochs = epochs, \n",
    "                              validation_data = (X_test, y_test), verbose=1, \n",
    "                              steps_per_epoch=X_train.shape[0] // batch_size,\n",
    "                              callbacks = [reduce_lr])"
   ]
  },
  {
   "cell_type": "code",
   "execution_count": 25,
   "metadata": {
    "execution": {
     "iopub.execute_input": "2021-01-06T12:55:17.309990Z",
     "iopub.status.busy": "2021-01-06T12:55:17.303124Z",
     "iopub.status.idle": "2021-01-06T12:55:17.464027Z",
     "shell.execute_reply": "2021-01-06T12:55:17.464465Z"
    },
    "papermill": {
     "duration": 3.347293,
     "end_time": "2021-01-06T12:55:17.464588",
     "exception": false,
     "start_time": "2021-01-06T12:55:14.117295",
     "status": "completed"
    },
    "tags": []
   },
   "outputs": [
    {
     "data": {
      "image/png": "[encoded data removed]",
      "text/plain": [
       "<Figure size 432x288 with 1 Axes>"
      ]
     },
     "metadata": {
      "needs_background": "light"
     },
     "output_type": "display_data"
    }
   ],
   "source": [
    "# Diagnostics\n",
    "plt.plot(history.history['loss'], label='train')\n",
    "plt.plot(history.history['val_loss'], label='test')\n",
    "plt.title(\"Model Loss\")\n",
    "plt.xlabel('Epochs')\n",
    "plt.ylabel('Loss')\n",
    "plt.legend();"
   ]
  },
  {
   "cell_type": "code",
   "execution_count": 26,
   "metadata": {
    "execution": {
     "iopub.execute_input": "2021-01-06T12:55:23.257118Z",
     "iopub.status.busy": "2021-01-06T12:55:23.255535Z",
     "iopub.status.idle": "2021-01-06T12:55:23.534121Z",
     "shell.execute_reply": "2021-01-06T12:55:23.534569Z"
    },
    "papermill": {
     "duration": 3.207769,
     "end_time": "2021-01-06T12:55:23.534690",
     "exception": false,
     "start_time": "2021-01-06T12:55:20.326921",
     "status": "completed"
    },
    "tags": []
   },
   "outputs": [
    {
     "data": {
      "image/png": "[encoded data removed]",
      "text/plain": [
       "<Figure size 432x288 with 1 Axes>"
      ]
     },
     "metadata": {
      "needs_background": "light"
     },
     "output_type": "display_data"
    }
   ],
   "source": [
    "plt.plot(history.history['categorical_accuracy'], label='train')\n",
    "plt.plot(history.history['val_categorical_accuracy'], label='test')\n",
    "plt.title('Model Accuracy')\n",
    "plt.xlabel('Epochs')\n",
    "plt.ylabel('Accuracy')\n",
    "plt.legend()\n",
    "plt.show()"
   ]
  },
  {
   "cell_type": "code",
   "execution_count": 27,
   "metadata": {
    "execution": {
     "iopub.execute_input": "2021-01-06T12:55:29.607929Z",
     "iopub.status.busy": "2021-01-06T12:55:29.607006Z",
     "iopub.status.idle": "2021-01-06T12:55:31.114899Z",
     "shell.execute_reply": "2021-01-06T12:55:31.116437Z"
    },
    "papermill": {
     "duration": 4.456121,
     "end_time": "2021-01-06T12:55:31.116770",
     "exception": false,
     "start_time": "2021-01-06T12:55:26.660649",
     "status": "completed"
    },
    "tags": []
   },
   "outputs": [
    {
     "data": {
      "text/html": [
       "<div>\n",
       "<style scoped>\n",
       "    .dataframe tbody tr th:only-of-type {\n",
       "        vertical-align: middle;\n",
       "    }\n",
       "\n",
       "    .dataframe tbody tr th {\n",
       "        vertical-align: top;\n",
       "    }\n",
       "\n",
       "    .dataframe thead th {\n",
       "        text-align: right;\n",
       "    }\n",
       "</style>\n",
       "<table border=\"1\" class=\"dataframe\">\n",
       "  <thead>\n",
       "    <tr style=\"text-align: right;\">\n",
       "      <th></th>\n",
       "      <th>ImageId</th>\n",
       "      <th>Label</th>\n",
       "    </tr>\n",
       "  </thead>\n",
       "  <tbody>\n",
       "    <tr>\n",
       "      <th>0</th>\n",
       "      <td>1</td>\n",
       "      <td>2</td>\n",
       "    </tr>\n",
       "    <tr>\n",
       "      <th>1</th>\n",
       "      <td>2</td>\n",
       "      <td>0</td>\n",
       "    </tr>\n",
       "    <tr>\n",
       "      <th>2</th>\n",
       "      <td>3</td>\n",
       "      <td>9</td>\n",
       "    </tr>\n",
       "    <tr>\n",
       "      <th>3</th>\n",
       "      <td>4</td>\n",
       "      <td>0</td>\n",
       "    </tr>\n",
       "    <tr>\n",
       "      <th>4</th>\n",
       "      <td>5</td>\n",
       "      <td>3</td>\n",
       "    </tr>\n",
       "  </tbody>\n",
       "</table>\n",
       "</div>"
      ],
      "text/plain": [
       "   ImageId  Label\n",
       "0        1      2\n",
       "1        2      0\n",
       "2        3      9\n",
       "3        4      0\n",
       "4        5      3"
      ]
     },
     "execution_count": 27,
     "metadata": {},
     "output_type": "execute_result"
    }
   ],
   "source": [
    "preds = np.argmax(model.predict(test), axis=1)\n",
    "    \n",
    "sub_df = {'ImageId':list(range(1, len(test) + 1)),'Label':preds}\n",
    "submission = pd.DataFrame(sub_df).astype('int')\n",
    "submission.head()"
   ]
  },
  {
   "cell_type": "code",
   "execution_count": 28,
   "metadata": {
    "execution": {
     "iopub.execute_input": "2021-01-06T12:55:37.786706Z",
     "iopub.status.busy": "2021-01-06T12:55:37.786099Z",
     "iopub.status.idle": "2021-01-06T12:55:38.041614Z",
     "shell.execute_reply": "2021-01-06T12:55:38.041082Z"
    },
    "papermill": {
     "duration": 3.91191,
     "end_time": "2021-01-06T12:55:38.041729",
     "exception": false,
     "start_time": "2021-01-06T12:55:34.129819",
     "status": "completed"
    },
    "tags": []
   },
   "outputs": [],
   "source": [
    "submission.to_csv('submission.csv', index=False)"
   ]
  }
 ],
 "metadata": {
  "kernelspec": {
   "display_name": "Python 3",
   "language": "python",
   "name": "python3"
  },
  "language_info": {
   "codemirror_mode": {
    "name": "ipython",
    "version": 3
   },
   "file_extension": ".py",
   "mimetype": "text/x-python",
   "name": "python",
   "nbconvert_exporter": "python",
   "pygments_lexer": "ipython3",
   "version": "3.7.6"
  },
  "papermill": {
   "duration": 709.650845,
   "end_time": "2021-01-06T12:55:42.534094",
   "environment_variables": {},
   "exception": null,
   "input_path": "__notebook__.ipynb",
   "output_path": "__notebook__.ipynb",
   "parameters": {},
   "start_time": "2021-01-06T12:43:52.883249",
   "version": "2.1.0"
  }
 },
 "nbformat": 4,
 "nbformat_minor": 4
}
